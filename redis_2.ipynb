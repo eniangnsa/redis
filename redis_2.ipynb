{
 "cells": [
  {
   "cell_type": "markdown",
   "metadata": {},
   "source": [
    "## Books i have read\n",
    "I am going to create a redis database to store infomation about the books i have read. First i'll create it locally, store the needed information, carry out some operations on it and then flush it. \n",
    "The second which is the last part is to repeat the above operations but this time remotely on the cloud. I hope my vpn works"
   ]
  },
  {
   "cell_type": "code",
   "execution_count": 1,
   "metadata": {},
   "outputs": [],
   "source": [
    "# import the needed library\n",
    "import redis"
   ]
  },
  {
   "cell_type": "code",
   "execution_count": 2,
   "metadata": {},
   "outputs": [],
   "source": [
    "# create  the database object\n",
    "redis_host = 'localhost'\n",
    "redis_port = 6379\n",
    "redis_password = 'mypassword'\n",
    "\n",
    "my_db = redis.Redis(\n",
    "    host=redis_host, \n",
    "    port=redis_port,\n",
    "    password=redis_password,\n",
    "    decode_responses=True, \n",
    "    charset='utf-8'\n",
    "    )"
   ]
  },
  {
   "cell_type": "code",
   "execution_count": 3,
   "metadata": {},
   "outputs": [],
   "source": [
    "# create hashmap objects of the books i have read\n",
    "book_1 = {\n",
    "    'title': 'Think and grow rich',\n",
    "    'author': 'Napoleon Hill',\n",
    "    'year': '2002',\n",
    "    'Best Seller': 'Yes',\n",
    "    'format': 'pdf',\n",
    "    'rating': '5'\n",
    "}\n",
    "\n",
    "\n",
    "book_2 = {\n",
    "    'title': 'An Enemy called Average',\n",
    "    'author': 'Jason Mason',\n",
    "    'year': '2012',\n",
    "    'Best Seller': 'No',\n",
    "    'format': 'hard copy',\n",
    "    'rating': '3.5'\n",
    "}\n",
    "\n",
    "\n",
    "book_3 = {\n",
    "    'title': \"Money Won't make you Rich\",\n",
    "    'author': 'Sunday Adelaja',\n",
    "    'year': '2016',\n",
    "    'Best Seller': 'No',\n",
    "    'format': 'hard copy',\n",
    "    'rating': '5'\n",
    "}\n",
    "\n",
    "\n",
    "book_4 = {\n",
    "    'title': 'The Richest Man in Babylon',\n",
    "    'author': 'George Clason',\n",
    "    'year': '1993',\n",
    "    'Best Seller': 'Yes',\n",
    "    'format': 'pdf',\n",
    "    'rating': '5'\n",
    "}\n",
    "\n",
    "\n",
    "book_5 = {\n",
    "    'title': 'Mindset',\n",
    "    'author': 'Carol Dweck',\n",
    "    'year': '2018',\n",
    "    'Best Seller': 'Yes',\n",
    "    'format': 'pdf',\n",
    "    'rating': '5'\n",
    "}\n",
    "\n",
    "\n",
    "book_6 = {\n",
    "    'title': 'Rich Dad, Poor Dad',\n",
    "    'author': 'Donald Trump and Robert Kiyosaki',\n",
    "    'year': '2020',\n",
    "    'Best Seller': 'Yes',\n",
    "    'format': 'pdf',\n",
    "    'rating': '5'\n",
    "}"
   ]
  },
  {
   "cell_type": "code",
   "execution_count": 4,
   "metadata": {},
   "outputs": [
    {
     "name": "stderr",
     "output_type": "stream",
     "text": [
      "/var/folders/y5/5kc5fqvn2tncnl_868zg4zhr0000gn/T/ipykernel_4008/2633593590.py:1: DeprecationWarning: Redis.hmset() is deprecated. Use Redis.hset() instead.\n",
      "  my_db.hmset('book_1', book_1)\n",
      "/var/folders/y5/5kc5fqvn2tncnl_868zg4zhr0000gn/T/ipykernel_4008/2633593590.py:2: DeprecationWarning: Redis.hmset() is deprecated. Use Redis.hset() instead.\n",
      "  my_db.hmset('book_2', book_2)\n",
      "/var/folders/y5/5kc5fqvn2tncnl_868zg4zhr0000gn/T/ipykernel_4008/2633593590.py:3: DeprecationWarning: Redis.hmset() is deprecated. Use Redis.hset() instead.\n",
      "  my_db.hmset('book_3', book_3)\n",
      "/var/folders/y5/5kc5fqvn2tncnl_868zg4zhr0000gn/T/ipykernel_4008/2633593590.py:4: DeprecationWarning: Redis.hmset() is deprecated. Use Redis.hset() instead.\n",
      "  my_db.hmset('book_4', book_4)\n",
      "/var/folders/y5/5kc5fqvn2tncnl_868zg4zhr0000gn/T/ipykernel_4008/2633593590.py:5: DeprecationWarning: Redis.hmset() is deprecated. Use Redis.hset() instead.\n",
      "  my_db.hmset('book_5', book_5)\n",
      "/var/folders/y5/5kc5fqvn2tncnl_868zg4zhr0000gn/T/ipykernel_4008/2633593590.py:6: DeprecationWarning: Redis.hmset() is deprecated. Use Redis.hset() instead.\n",
      "  my_db.hmset('book_6', book_6)\n"
     ]
    },
    {
     "data": {
      "text/plain": [
       "True"
      ]
     },
     "execution_count": 4,
     "metadata": {},
     "output_type": "execute_result"
    }
   ],
   "source": [
    "my_db.hmset('book_1', book_1)\n",
    "my_db.hmset('book_2', book_2)\n",
    "my_db.hmset('book_3', book_3)\n",
    "my_db.hmset('book_4', book_4)\n",
    "my_db.hmset('book_5', book_5)\n",
    "my_db.hmset('book_6', book_6)"
   ]
  },
  {
   "cell_type": "code",
   "execution_count": 5,
   "metadata": {},
   "outputs": [
    {
     "name": "stdout",
     "output_type": "stream",
     "text": [
      "city\n",
      "book_4\n",
      "tomsk_seasons\n",
      "tomsk_weather\n",
      "index_field\n",
      "top_db\n",
      "book_2\n",
      "produts_rating\n",
      "book_5\n",
      "book_3\n",
      "book_6\n",
      "nigeria_seasons\n",
      "book_1\n",
      "products_rating\n"
     ]
    }
   ],
   "source": [
    "for key in my_db.scan_iter():\n",
    "    print(key)"
   ]
  },
  {
   "cell_type": "markdown",
   "metadata": {},
   "source": [
    "The output above are all the things i have in my database locally. \n",
    "if i  wanted the information entered on this notebook to be uploaded on the cloud account, i just have to supply it with my cloud details"
   ]
  },
  {
   "cell_type": "code",
   "execution_count": null,
   "metadata": {},
   "outputs": [],
   "source": []
  }
 ],
 "metadata": {
  "kernelspec": {
   "display_name": ".venv",
   "language": "python",
   "name": "python3"
  },
  "language_info": {
   "codemirror_mode": {
    "name": "ipython",
    "version": 3
   },
   "file_extension": ".py",
   "mimetype": "text/x-python",
   "name": "python",
   "nbconvert_exporter": "python",
   "pygments_lexer": "ipython3",
   "version": "3.9.6"
  }
 },
 "nbformat": 4,
 "nbformat_minor": 2
}
