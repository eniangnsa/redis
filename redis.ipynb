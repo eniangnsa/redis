{
 "cells": [
  {
   "cell_type": "code",
   "execution_count": 1,
   "metadata": {},
   "outputs": [],
   "source": [
    "import redis\n",
    "import time"
   ]
  },
  {
   "cell_type": "code",
   "execution_count": 2,
   "metadata": {},
   "outputs": [],
   "source": [
    "redis_host = 'localhost'\n",
    "redis_port = 6379\n",
    "redis_password = 'mypassword'"
   ]
  },
  {
   "cell_type": "code",
   "execution_count": 3,
   "metadata": {},
   "outputs": [],
   "source": [
    "# later create the object with account details when vpn works.\n",
    "DB = redis.Redis(host=redis_host, port=redis_port, db=0, charset='utf-8',decode_responses=True, password=redis_password)"
   ]
  },
  {
   "cell_type": "code",
   "execution_count": 4,
   "metadata": {},
   "outputs": [
    {
     "name": "stdout",
     "output_type": "stream",
     "text": [
      "Tomsk\n"
     ]
    }
   ],
   "source": [
    "DB.set(\"city\", \"Tomsk\")\n",
    "print(DB.get(\"city\"))"
   ]
  },
  {
   "cell_type": "code",
   "execution_count": 5,
   "metadata": {},
   "outputs": [],
   "source": [
    "# Create DB object here\n",
    "# DBcloud = redis.Redis()\n"
   ]
  },
  {
   "cell_type": "code",
   "execution_count": 6,
   "metadata": {},
   "outputs": [],
   "source": [
    "# DBcloud.set(\"University\", \"TSU\")\n",
    "# print(DBcloud.get(\"University\"))"
   ]
  },
  {
   "cell_type": "code",
   "execution_count": 7,
   "metadata": {},
   "outputs": [
    {
     "name": "stdout",
     "output_type": "stream",
     "text": [
      "1719649278\n"
     ]
    }
   ],
   "source": [
    "DB.set(\"time\", int(time.time()), 20)\n",
    "print(DB.get(\"time\"))"
   ]
  },
  {
   "cell_type": "code",
   "execution_count": 8,
   "metadata": {},
   "outputs": [
    {
     "name": "stdout",
     "output_type": "stream",
     "text": [
      "index_field: 1\n"
     ]
    }
   ],
   "source": [
    "DB.set(\"index_field\", 1)\n",
    "print(f\"index_field: {DB.get('index_field')}\")"
   ]
  },
  {
   "cell_type": "code",
   "execution_count": 9,
   "metadata": {},
   "outputs": [
    {
     "name": "stdout",
     "output_type": "stream",
     "text": [
      "increased index field: 2\n"
     ]
    }
   ],
   "source": [
    "# let's increase the index_field by a 1\n",
    "DB.incr('index_field')\n",
    "print(f\"increased index field: {DB.get('index_field')}\")"
   ]
  },
  {
   "cell_type": "code",
   "execution_count": 10,
   "metadata": {},
   "outputs": [
    {
     "name": "stdout",
     "output_type": "stream",
     "text": [
      "new index field increased by 10 is: 12\n"
     ]
    }
   ],
   "source": [
    "# let's increase it by 10\n",
    "DB.incrby(\"index_field\", 10)\n",
    "print(f\"new index field increased by 10 is: {DB.get('index_field')}\")"
   ]
  },
  {
   "cell_type": "code",
   "execution_count": 11,
   "metadata": {},
   "outputs": [
    {
     "name": "stdout",
     "output_type": "stream",
     "text": [
      "Decreased index field: 7\n"
     ]
    }
   ],
   "source": [
    "# reduce it by  5\n",
    "DB.decrby(\"index_field\", 5)\n",
    "print(f\"Decreased index field: {DB.get('index_field')}\")"
   ]
  },
  {
   "cell_type": "markdown",
   "metadata": {},
   "source": [
    "## List"
   ]
  },
  {
   "cell_type": "code",
   "execution_count": 12,
   "metadata": {},
   "outputs": [
    {
     "data": {
      "text/plain": [
       "26"
      ]
     },
     "execution_count": 12,
     "metadata": {},
     "output_type": "execute_result"
    }
   ],
   "source": [
    "DB.lpush(\"tomsk_weather\", \"white winter\")"
   ]
  },
  {
   "cell_type": "code",
   "execution_count": 13,
   "metadata": {},
   "outputs": [
    {
     "name": "stdout",
     "output_type": "stream",
     "text": [
      "Weather in tomsk when i arrived: ['white winter', 'white winter', 'white winter', 'white winter', 'green winter', 'semi-summer', 'spring', 'green winter', 'semi-summer', 'spring', 'green winter', 'semi-summer', 'spring', 'green winter', 'semi-summer', 'spring', 'green winter', 'semi-summer', 'spring', 'green winter', 'semi-summer', 'spring', 'green winter', 'semi-summer', 'spring', 'green winter']\n"
     ]
    }
   ],
   "source": [
    "print(f\"Weather in tomsk when i arrived: {DB.lrange('tomsk_weather', 0, -1)}\")"
   ]
  },
  {
   "cell_type": "code",
   "execution_count": 15,
   "metadata": {},
   "outputs": [
    {
     "name": "stdout",
     "output_type": "stream",
     "text": [
      "Weather Seasons in tomsk after white winter: ['white winter', 'white winter', 'white winter', 'white winter', 'green winter', 'semi-summer', 'spring', 'green winter', 'semi-summer', 'spring', 'green winter', 'semi-summer', 'spring', 'green winter', 'semi-summer', 'spring', 'green winter', 'semi-summer', 'spring', 'green winter', 'semi-summer', 'spring', 'green winter', 'semi-summer', 'spring', 'green winter', 'green winter', 'green winter']\n"
     ]
    }
   ],
   "source": [
    "# add some other weather in tomsk\n",
    "DB.rpush('tomsk_weather', 'green winter', 'semi-summer', 'spring')\n",
    "print(f\"Weather Seasons in tomsk after white winter: {DB.lrange('tomsk_weather',0, -1)}\")\n",
    "print(f\"length: {DB.llen('tomsk_weather')}\")"
   ]
  },
  {
   "cell_type": "code",
   "execution_count": 16,
   "metadata": {},
   "outputs": [
    {
     "name": "stdout",
     "output_type": "stream",
     "text": [
      "Weather Seasons in tomsk after white winter: ['white winter', 'white winter', 'white winter', 'white winter', 'green winter', 'semi-summer', 'spring', 'green winter', 'semi-summer', 'spring', 'green winter', 'semi-summer', 'spring', 'green winter', 'semi-summer', 'spring', 'green winter', 'semi-summer', 'spring', 'green winter', 'semi-summer', 'spring', 'green winter', 'semi-summer', 'spring', 'green winter', 'green winter', 'green winter']\n"
     ]
    }
   ],
   "source": [
    "# let's remove some items \n",
    "DB.lrem('tomsk_weather', 1, 'white_winter')\n",
    "print(f\"Weather Seasons in tomsk after white winter: {DB.lrange('tomsk_weather',0, -1)}\")"
   ]
  },
  {
   "cell_type": "markdown",
   "metadata": {},
   "source": [
    "One major disadvantage of list is that it can contain duplicates. If our use case problem requires us to have unique entries, then it would be beneficial to use a set instead"
   ]
  },
  {
   "cell_type": "markdown",
   "metadata": {},
   "source": [
    "## Set\n"
   ]
  },
  {
   "cell_type": "markdown",
   "metadata": {},
   "source": [
    "Now i am going to create a set to store the weather seasons in tomsk. "
   ]
  },
  {
   "cell_type": "code",
   "execution_count": 17,
   "metadata": {},
   "outputs": [
    {
     "name": "stdout",
     "output_type": "stream",
     "text": [
      "Tomsk's first season is: {'white winter'}\n"
     ]
    }
   ],
   "source": [
    "DB.sadd(\"tomsk_seasons\", 'white winter')\n",
    "print(f\"Tomsk's first season is: {DB.smembers('tomsk_seasons')}\")"
   ]
  },
  {
   "cell_type": "code",
   "execution_count": 18,
   "metadata": {},
   "outputs": [
    {
     "name": "stdout",
     "output_type": "stream",
     "text": [
      "Tomsk's seasons: {'white winter', 'green winter'}\n"
     ]
    }
   ],
   "source": [
    "# Let's add the green winter season\n",
    "DB.sadd(\"tomsk_seasons\", \"green winter\")\n",
    "print(f\"Tomsk's seasons: {DB.smembers('tomsk_seasons')}\")"
   ]
  },
  {
   "cell_type": "code",
   "execution_count": 22,
   "metadata": {},
   "outputs": [
    {
     "name": "stdout",
     "output_type": "stream",
     "text": [
      "Tomsk's Seasons: {'white winter', 'green winter', 'summer', 'Autumn', 'spring'}\n"
     ]
    }
   ],
   "source": [
    "# let's add multiple seasons to it\n",
    "DB.sadd(\"tomsk_seasons\", \"summer\", \"spring\", \"Autumn\")\n",
    "print(f\"Tomsk's Seasons: {DB.smembers('tomsk_seasons')}\")"
   ]
  },
  {
   "cell_type": "code",
   "execution_count": 26,
   "metadata": {},
   "outputs": [
    {
     "name": "stdout",
     "output_type": "stream",
     "text": [
      "Nigeria's Seasons: {'Dry', 'Raining'}\n",
      "\n",
      "Let's find the union of the seasons in nigeria and tomsk\n",
      "\n",
      "The Union is : {'white winter', 'Raining', 'green winter', 'summer', 'Autumn', 'Dry', 'spring'}\n",
      "\n",
      "The difference between the two nigeria and tomsk\n",
      "\n",
      "The difference is : {'Dry', 'Raining'}\n"
     ]
    }
   ],
   "source": [
    "# Seasons in Nigeria\n",
    "DB.sadd(\"nigeria_seasons\", \"Raining\", \"Dry\")\n",
    "print(f\"Nigeria's Seasons: {DB.smembers('nigeria_seasons')}\")\n",
    "print()\n",
    "print(\"Let's find the union of the seasons in nigeria and tomsk\")\n",
    "print()\n",
    "print(f\"The Union is : {DB.sunion('tomsk_seasons', 'nigeria_seasons')}\")\n",
    "print()\n",
    "print(\"The difference between the two nigeria and tomsk\")\n",
    "print()\n",
    "print(f\"The difference is : {DB.sdiff('nigeria_seasons', 'tomsk_seasons')}\")"
   ]
  },
  {
   "cell_type": "markdown",
   "metadata": {},
   "source": [
    "### Adding items to a sorted set with the method zadd()"
   ]
  },
  {
   "cell_type": "markdown",
   "metadata": {},
   "source": [
    "A unique thing about  working with sets is that it is a unique collection of members. we can't have duplicates in a set. However, we still have a little drawback. Sets are not ordered.\n",
    "Now we're going to create an ordered set in the next section\n"
   ]
  },
  {
   "cell_type": "code",
   "execution_count": 27,
   "metadata": {},
   "outputs": [
    {
     "name": "stdout",
     "output_type": "stream",
     "text": [
      "top_db: ['MySQL', 'Microsoft SQL Server', 'Oracle']\n"
     ]
    }
   ],
   "source": [
    "DB.zadd('top_db', {\n",
    "    'MySQL':1,\n",
    "    'Microsoft SQL Server': 2,\n",
    "    'Oracle': 3\n",
    "})\n",
    "\n",
    "print(f\"top_db: {DB.zrange('top_db', 0, -1)}\")"
   ]
  },
  {
   "cell_type": "code",
   "execution_count": 34,
   "metadata": {},
   "outputs": [
    {
     "name": "stdout",
     "output_type": "stream",
     "text": [
      "Let's see what our ordered set looks like\n",
      "\n",
      "Here's our set: ['MySQL', 'Redis', 'Microsoft SQL Server', 'MongoDB', 'Oracle', 'PostgreSQL']\n",
      "Length: 6\n"
     ]
    }
   ],
   "source": [
    "# Add a new item to the set at a specific position\n",
    "DB.zadd('top_db', {'PostgreSQL':3})\n",
    "DB.zadd('top_db', {'MongoDB':2})\n",
    "DB.zadd('top_db', {'Redis':1})\n",
    "print(\"Let's see what our ordered set looks like\")\n",
    "print()\n",
    "print(f\"Here's our set: {DB.zrange('top_db', 0,-1)}\")\n",
    "print()\n",
    "print(\"What is the length of our set? \")\n",
    "print()\n",
    "print(f\"Length: {DB.zcard('top_db')}\")"
   ]
  },
  {
   "cell_type": "markdown",
   "metadata": {},
   "source": [
    "## Hashmaps\n",
    "Hashmaps is what we call Dictionary in python"
   ]
  },
  {
   "cell_type": "code",
   "execution_count": 43,
   "metadata": {},
   "outputs": [],
   "source": [
    "products = {\n",
    "    'name': \"Oracle\",\n",
    "    'description': 'Database',\n",
    "    'rating': '5'\n",
    "}"
   ]
  },
  {
   "cell_type": "code",
   "execution_count": 50,
   "metadata": {},
   "outputs": [
    {
     "name": "stdout",
     "output_type": "stream",
     "text": [
      "Here's our products, a description and the rating: {'name': 'Oracle', 'description': 'Database', 'rating': '5'}\n",
      "\n",
      "Let's get the keys in the hashmap\n",
      "\n",
      "The keys are: ['name', 'description', 'rating']\n",
      "\n",
      "For the values we have\n",
      "Values of the hashmap: ['Oracle', 'Database', '5']\n"
     ]
    },
    {
     "name": "stderr",
     "output_type": "stream",
     "text": [
      "/var/folders/y5/5kc5fqvn2tncnl_868zg4zhr0000gn/T/ipykernel_70759/130199670.py:1: DeprecationWarning: Redis.hmset() is deprecated. Use Redis.hset() instead.\n",
      "  DB.hmset('products_rating', products)\n"
     ]
    }
   ],
   "source": [
    "DB.hmset('products_rating', products)\n",
    "print(f\"Here's our products, a description and the rating: {DB.hgetall('products_rating')}\")\n",
    "print()\n",
    "print(\"Let's get the keys in the hashmap\")\n",
    "print()\n",
    "print(f\"The keys are: {DB.hkeys('products_rating')}\")\n",
    "print()\n",
    "print(\"For the values we have\")\n",
    "print(f\"Values of the hashmap: {DB.hvals('products_rating')}\")"
   ]
  },
  {
   "cell_type": "code",
   "execution_count": null,
   "metadata": {},
   "outputs": [],
   "source": []
  }
 ],
 "metadata": {
  "kernelspec": {
   "display_name": ".venv",
   "language": "python",
   "name": "python3"
  },
  "language_info": {
   "codemirror_mode": {
    "name": "ipython",
    "version": 3
   },
   "file_extension": ".py",
   "mimetype": "text/x-python",
   "name": "python",
   "nbconvert_exporter": "python",
   "pygments_lexer": "ipython3",
   "version": "3.9.6"
  }
 },
 "nbformat": 4,
 "nbformat_minor": 2
}
